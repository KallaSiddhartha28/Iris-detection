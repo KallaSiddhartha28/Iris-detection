{
  "nbformat": 4,
  "nbformat_minor": 0,
  "metadata": {
    "colab": {
      "provenance": [],
      "toc_visible": true
    },
    "kernelspec": {
      "name": "python3",
      "display_name": "Python 3"
    },
    "language_info": {
      "name": "python"
    }
  },
  "cells": [
    {
      "cell_type": "code",
      "execution_count": null,
      "metadata": {
        "id": "ntbhz86HvUl3"
      },
      "outputs": [],
      "source": [
        "pip install Flask\n"
      ]
    },
    {
      "cell_type": "code",
      "source": [
        "import pandas as pd\n",
        "from sklearn.datasets import load_iris\n",
        "from sklearn.model_selection import train_test_split\n",
        "from sklearn.ensemble import RandomForestClassifier\n",
        "import pickle\n",
        "\n",
        "# Load the iris dataset\n",
        "iris = load_iris()\n",
        "X = iris.data\n",
        "y = iris.target\n",
        "\n",
        "# Split the data\n",
        "X_train, X_test, y_train, y_test = train_test_split(X, y, test_size=0.2, random_state=42)\n",
        "\n",
        "# Train the model\n",
        "model = RandomForestClassifier(n_estimators=100, random_state=42)\n",
        "model.fit(X_train, y_train)\n",
        "\n",
        "# Save the model\n",
        "with open('iris_model.pkl', 'wb') as f:\n",
        "    pickle.dump(model, f)\n"
      ],
      "metadata": {
        "id": "pEBJstFRwRBF"
      },
      "execution_count": null,
      "outputs": []
    },
    {
      "cell_type": "code",
      "source": [
        "from flask import Flask, render_template, request, jsonify\n",
        "import numpy as np\n",
        "import pickle\n",
        "\n",
        "app = Flask(__name__)\n",
        "\n",
        "# Load the trained model\n",
        "model = pickle.load(open('iris_model.pkl', 'rb'))\n",
        "\n",
        "@app.route('/')\n",
        "def home():\n",
        "    return render_template('index.html')\n",
        "\n",
        "@app.route('/predict', methods=['POST'])\n",
        "def predict():\n",
        "    data = [float(x) for x in request.form.values()]\n",
        "    features = [np.array(data)]\n",
        "    prediction = model.predict(features)\n",
        "    output = prediction[0]\n",
        "    species = {0: 'setosa', 1: 'versicolor', 2: 'virginica'}\n",
        "\n",
        "    return jsonify({'prediction': species[output]})\n",
        "\n",
        "if __name__ == '__main__':\n",
        "    app.run(debug=True)\n"
      ],
      "metadata": {
        "id": "EAcjSN7TwUbu"
      },
      "execution_count": null,
      "outputs": []
    },
    {
      "cell_type": "code",
      "source": [
        "<!DOCTYPE html>\n",
        "<html lang=\"en\">\n",
        "<head>\n",
        "    <meta charset=\"UTF-8\">\n",
        "    <meta name=\"viewport\" content=\"width=device-width, initial-scale=1.0\">\n",
        "    <title>Iris Flower Classification</title>\n",
        "    <link rel=\"stylesheet\" href=\"https://stackpath.bootstrapcdn.com/bootstrap/4.3.1/css/bootstrap.min.css\">\n",
        "</head>\n",
        "<body>\n",
        "    <div class=\"container\">\n",
        "        <h1 class=\"mt-5\">Iris Flower Classification</h1>\n",
        "        <form id=\"predictionForm\">\n",
        "            <div class=\"form-group\">\n",
        "                <label for=\"sepal_length\">Sepal Length</label>\n",
        "                <input type=\"text\" class=\"form-control\" id=\"sepal_length\" name=\"sepal_length\">\n",
        "            </div>\n",
        "            <div class=\"form-group\">\n",
        "                <label for=\"sepal_width\">Sepal Width</label>\n",
        "                <input type=\"text\" class=\"form-control\" id=\"sepal_width\" name=\"sepal_width\">\n",
        "            </div>\n",
        "            <div class=\"form-group\">\n",
        "                <label for=\"petal_length\">Petal Length</label>\n",
        "                <input type=\"text\" class=\"form-control\" id=\"petal_length\" name=\"petal_length\">\n",
        "            </div>\n",
        "            <div class=\"form-group\">\n",
        "                <label for=\"petal_width\">Petal Width</label>\n",
        "                <input type=\"text\" class=\"form-control\" id=\"petal_width\" name=\"petal_width\">\n",
        "            </div>\n",
        "            <button type=\"submit\" class=\"btn btn-primary\">Predict</button>\n",
        "        </form>\n",
        "        <h3 class=\"mt-5\" id=\"predictionResult\"></h3>\n",
        "    </div>\n",
        "\n",
        "    <script src=\"https://code.jquery.com/jquery-3.3.1.min.js\"></script>\n",
        "    <script>\n",
        "        $(document).ready(function() {\n",
        "            $('#predictionForm').on('submit', function(event) {\n",
        "                event.preventDefault();\n",
        "                $.ajax({\n",
        "                    url: '/predict',\n",
        "                    method: 'POST',\n",
        "                    data: $(this).serialize(),\n",
        "                    success: function(response) {\n",
        "                        $('#predictionResult').html('Predicted Species: ' + response.prediction);\n",
        "                    },\n",
        "                    error: function(error) {\n",
        "                        console.log(error);\n",
        "                    }\n",
        "                });\n",
        "            });\n",
        "        });\n",
        "    </script>\n",
        "</body>\n",
        "</html>\n"
      ],
      "metadata": {
        "id": "oxHIuxp7wZN7"
      },
      "execution_count": null,
      "outputs": []
    },
    {
      "cell_type": "code",
      "source": [
        "python app.py\n"
      ],
      "metadata": {
        "id": "QAURPvT_weN_"
      },
      "execution_count": null,
      "outputs": []
    }
  ]
}